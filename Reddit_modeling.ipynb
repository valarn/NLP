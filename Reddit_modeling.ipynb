{
 "cells": [
  {
   "cell_type": "markdown",
   "metadata": {},
   "source": [
    "# Modeling notebook\n",
    "**Author: Vala Rahmani**"
   ]
  },
  {
   "cell_type": "markdown",
   "metadata": {},
   "source": [
    "Importing all the required packages"
   ]
  },
  {
   "cell_type": "code",
   "execution_count": 69,
   "metadata": {},
   "outputs": [],
   "source": [
    "import pandas as pd\n",
    "import numpy as np\n",
    "from nltk import WordNetLemmatizer\n",
    "from nltk.tokenize import RegexpTokenizer, word_tokenize\n",
    "from sklearn.model_selection import train_test_split, GridSearchCV, cross_val_score\n",
    "from sklearn.feature_extraction.text import CountVectorizer, TfidfVectorizer\n",
    "from sklearn.pipeline import Pipeline\n",
    "from sklearn.linear_model import LogisticRegression\n",
    "from sklearn.metrics import confusion_matrix\n",
    "from sklearn.neighbors import KNeighborsClassifier\n",
    "from sklearn.tree import DecisionTreeClassifier\n",
    "from sklearn.ensemble import AdaBoostClassifier,BaggingClassifier, RandomForestClassifier\n",
    "#Import Library of Gaussian Naive Bayes model\n",
    "from sklearn.naive_bayes import GaussianNB, MultinomialNB, BernoulliNB\n",
    "from nltk.classify import NaiveBayesClassifier\n",
    "\n",
    "#Importing the Bayes and the Vader for the Sentiment Analysis\n",
    "from nltk.sentiment.vader import SentimentIntensityAnalyzer\n",
    "from sklearn.metrics import f1_score\n",
    "\n",
    "import seaborn as sns\n",
    "import matplotlib.pyplot as plt\n",
    "\n",
    "\n",
    "#Use this line to see all the columns\n",
    "pd.set_option('display.max_columns', 40)"
   ]
  },
  {
   "cell_type": "markdown",
   "metadata": {},
   "source": [
    "Import the clean csv here the csv has been formatted in the EDA notebook."
   ]
  },
  {
   "cell_type": "code",
   "execution_count": 3,
   "metadata": {},
   "outputs": [],
   "source": [
    "data = pd.read_csv('dataset/clean_data_vegan.csv')"
   ]
  },
  {
   "cell_type": "code",
   "execution_count": 4,
   "metadata": {},
   "outputs": [],
   "source": [
    "# Drop the values of the clean_title that were not saved into csv\n",
    "data.dropna(subset = ['clean_title'],axis = 0, inplace=True)"
   ]
  },
  {
   "cell_type": "code",
   "execution_count": 5,
   "metadata": {},
   "outputs": [
    {
     "data": {
      "text/plain": [
       "0"
      ]
     },
     "execution_count": 5,
     "metadata": {},
     "output_type": "execute_result"
    }
   ],
   "source": [
    "data['clean_title_selftext'].isna().sum()"
   ]
  },
  {
   "cell_type": "markdown",
   "metadata": {},
   "source": [
    "**The positive class for the modeling purposes will be the subreddit Vegan however the subreddit_paleo will be used for the graphing purposes.**"
   ]
  },
  {
   "cell_type": "code",
   "execution_count": 6,
   "metadata": {},
   "outputs": [],
   "source": [
    "sia = SentimentIntensityAnalyzer()"
   ]
  },
  {
   "cell_type": "code",
   "execution_count": 7,
   "metadata": {},
   "outputs": [],
   "source": [
    "list_of_scores = []\n",
    "for post in data['clean_title_selftext']:\n",
    "    scores = sia.polarity_scores(post)\n",
    "    list_of_scores.append(scores)\n",
    "data['vader_score'] = list_of_scores"
   ]
  },
  {
   "cell_type": "code",
   "execution_count": 8,
   "metadata": {},
   "outputs": [
    {
     "data": {
      "text/html": [
       "<div>\n",
       "<style scoped>\n",
       "    .dataframe tbody tr th:only-of-type {\n",
       "        vertical-align: middle;\n",
       "    }\n",
       "\n",
       "    .dataframe tbody tr th {\n",
       "        vertical-align: top;\n",
       "    }\n",
       "\n",
       "    .dataframe thead th {\n",
       "        text-align: right;\n",
       "    }\n",
       "</style>\n",
       "<table border=\"1\" class=\"dataframe\">\n",
       "  <thead>\n",
       "    <tr style=\"text-align: right;\">\n",
       "      <th></th>\n",
       "      <th>id</th>\n",
       "      <th>author</th>\n",
       "      <th>is_video</th>\n",
       "      <th>name</th>\n",
       "      <th>num_comments</th>\n",
       "      <th>score</th>\n",
       "      <th>selftext</th>\n",
       "      <th>title</th>\n",
       "      <th>ups</th>\n",
       "      <th>subreddit_vegan</th>\n",
       "      <th>title_selftext</th>\n",
       "      <th>clean_title</th>\n",
       "      <th>clean_title_selftext</th>\n",
       "      <th>vader_score</th>\n",
       "    </tr>\n",
       "  </thead>\n",
       "  <tbody>\n",
       "    <tr>\n",
       "      <th>0</th>\n",
       "      <td>a0k6zx</td>\n",
       "      <td>arav24</td>\n",
       "      <td>False</td>\n",
       "      <td>t3_a0k6zx</td>\n",
       "      <td>0</td>\n",
       "      <td>0</td>\n",
       "      <td>Hi guys! I am majoring in Nutritional Science ...</td>\n",
       "      <td>I'm a 18 year old aspiring blogger [blogspam]</td>\n",
       "      <td>0</td>\n",
       "      <td>0</td>\n",
       "      <td>I'm a 18 year old aspiring blogger [blogspam] ...</td>\n",
       "      <td>year old aspiring blogger</td>\n",
       "      <td>year old aspiring blogger hi guys majoring nut...</td>\n",
       "      <td>{'neg': 0.0, 'neu': 0.542, 'pos': 0.458, 'comp...</td>\n",
       "    </tr>\n",
       "    <tr>\n",
       "      <th>1</th>\n",
       "      <td>cb2t2d</td>\n",
       "      <td>techguySF</td>\n",
       "      <td>False</td>\n",
       "      <td>t3_cb2t2d</td>\n",
       "      <td>0</td>\n",
       "      <td>0</td>\n",
       "      <td>NaN</td>\n",
       "      <td>Did Bone Marrow make us Human? [Discussion]</td>\n",
       "      <td>0</td>\n",
       "      <td>0</td>\n",
       "      <td>Did Bone Marrow make us Human? [Discussion]</td>\n",
       "      <td>bone marrow make us human</td>\n",
       "      <td>bone marrow make us human</td>\n",
       "      <td>{'neg': 0.0, 'neu': 1.0, 'pos': 0.0, 'compound...</td>\n",
       "    </tr>\n",
       "  </tbody>\n",
       "</table>\n",
       "</div>"
      ],
      "text/plain": [
       "       id     author  is_video       name  num_comments  score  \\\n",
       "0  a0k6zx     arav24     False  t3_a0k6zx             0      0   \n",
       "1  cb2t2d  techguySF     False  t3_cb2t2d             0      0   \n",
       "\n",
       "                                            selftext  \\\n",
       "0  Hi guys! I am majoring in Nutritional Science ...   \n",
       "1                                                NaN   \n",
       "\n",
       "                                           title  ups  subreddit_vegan  \\\n",
       "0  I'm a 18 year old aspiring blogger [blogspam]    0                0   \n",
       "1    Did Bone Marrow make us Human? [Discussion]    0                0   \n",
       "\n",
       "                                      title_selftext  \\\n",
       "0  I'm a 18 year old aspiring blogger [blogspam] ...   \n",
       "1       Did Bone Marrow make us Human? [Discussion]    \n",
       "\n",
       "                 clean_title  \\\n",
       "0  year old aspiring blogger   \n",
       "1  bone marrow make us human   \n",
       "\n",
       "                                clean_title_selftext  \\\n",
       "0  year old aspiring blogger hi guys majoring nut...   \n",
       "1                          bone marrow make us human   \n",
       "\n",
       "                                         vader_score  \n",
       "0  {'neg': 0.0, 'neu': 0.542, 'pos': 0.458, 'comp...  \n",
       "1  {'neg': 0.0, 'neu': 1.0, 'pos': 0.0, 'compound...  "
      ]
     },
     "execution_count": 8,
     "metadata": {},
     "output_type": "execute_result"
    }
   ],
   "source": [
    "data.head(2)\n"
   ]
  },
  {
   "cell_type": "code",
   "execution_count": 9,
   "metadata": {},
   "outputs": [],
   "source": [
    "# Create a positive class for the paleo for graphing purposes\n",
    "data['subreddit_paleo'] = [1 if i==0 else 0 for i in data['subreddit_vegan']]"
   ]
  },
  {
   "cell_type": "code",
   "execution_count": 10,
   "metadata": {},
   "outputs": [
    {
     "data": {
      "text/html": [
       "<div>\n",
       "<style scoped>\n",
       "    .dataframe tbody tr th:only-of-type {\n",
       "        vertical-align: middle;\n",
       "    }\n",
       "\n",
       "    .dataframe tbody tr th {\n",
       "        vertical-align: top;\n",
       "    }\n",
       "\n",
       "    .dataframe thead th {\n",
       "        text-align: right;\n",
       "    }\n",
       "</style>\n",
       "<table border=\"1\" class=\"dataframe\">\n",
       "  <thead>\n",
       "    <tr style=\"text-align: right;\">\n",
       "      <th></th>\n",
       "      <th>id</th>\n",
       "      <th>author</th>\n",
       "      <th>is_video</th>\n",
       "      <th>name</th>\n",
       "      <th>num_comments</th>\n",
       "      <th>score</th>\n",
       "      <th>selftext</th>\n",
       "      <th>title</th>\n",
       "      <th>ups</th>\n",
       "      <th>subreddit_vegan</th>\n",
       "      <th>title_selftext</th>\n",
       "      <th>clean_title</th>\n",
       "      <th>clean_title_selftext</th>\n",
       "      <th>vader_score</th>\n",
       "      <th>subreddit_paleo</th>\n",
       "    </tr>\n",
       "  </thead>\n",
       "  <tbody>\n",
       "    <tr>\n",
       "      <th>1781</th>\n",
       "      <td>cbp9c1</td>\n",
       "      <td>stenle99</td>\n",
       "      <td>False</td>\n",
       "      <td>t3_cbp9c1</td>\n",
       "      <td>1</td>\n",
       "      <td>45</td>\n",
       "      <td>NaN</td>\n",
       "      <td>Made some Veggie Pho the other day. A lot of e...</td>\n",
       "      <td>45</td>\n",
       "      <td>1</td>\n",
       "      <td>Made some Veggie Pho the other day. A lot of e...</td>\n",
       "      <td>made veggie pho day lot effort searching aroun...</td>\n",
       "      <td>made veggie pho day lot effort searching aroun...</td>\n",
       "      <td>{'neg': 0.0, 'neu': 0.685, 'pos': 0.315, 'comp...</td>\n",
       "      <td>0</td>\n",
       "    </tr>\n",
       "    <tr>\n",
       "      <th>1782</th>\n",
       "      <td>cbme6u</td>\n",
       "      <td>Joey_x_G</td>\n",
       "      <td>False</td>\n",
       "      <td>t3_cbme6u</td>\n",
       "      <td>1</td>\n",
       "      <td>89</td>\n",
       "      <td>NaN</td>\n",
       "      <td>Found this little mad ting on r/Tinder</td>\n",
       "      <td>89</td>\n",
       "      <td>1</td>\n",
       "      <td>Found this little mad ting on r/Tinder</td>\n",
       "      <td>found little mad ting r tinder</td>\n",
       "      <td>found little mad ting r tinder</td>\n",
       "      <td>{'neg': 0.421, 'neu': 0.579, 'pos': 0.0, 'comp...</td>\n",
       "      <td>0</td>\n",
       "    </tr>\n",
       "  </tbody>\n",
       "</table>\n",
       "</div>"
      ],
      "text/plain": [
       "          id    author  is_video       name  num_comments  score selftext  \\\n",
       "1781  cbp9c1  stenle99     False  t3_cbp9c1             1     45      NaN   \n",
       "1782  cbme6u  Joey_x_G     False  t3_cbme6u             1     89      NaN   \n",
       "\n",
       "                                                  title  ups  subreddit_vegan  \\\n",
       "1781  Made some Veggie Pho the other day. A lot of e...   45                1   \n",
       "1782             Found this little mad ting on r/Tinder   89                1   \n",
       "\n",
       "                                         title_selftext  \\\n",
       "1781  Made some Veggie Pho the other day. A lot of e...   \n",
       "1782            Found this little mad ting on r/Tinder    \n",
       "\n",
       "                                            clean_title  \\\n",
       "1781  made veggie pho day lot effort searching aroun...   \n",
       "1782                     found little mad ting r tinder   \n",
       "\n",
       "                                   clean_title_selftext  \\\n",
       "1781  made veggie pho day lot effort searching aroun...   \n",
       "1782                     found little mad ting r tinder   \n",
       "\n",
       "                                            vader_score  subreddit_paleo  \n",
       "1781  {'neg': 0.0, 'neu': 0.685, 'pos': 0.315, 'comp...                0  \n",
       "1782  {'neg': 0.421, 'neu': 0.579, 'pos': 0.0, 'comp...                0  "
      ]
     },
     "execution_count": 10,
     "metadata": {},
     "output_type": "execute_result"
    }
   ],
   "source": [
    "data.tail(2)"
   ]
  },
  {
   "cell_type": "markdown",
   "metadata": {},
   "source": [
    "### Train Test Split for the data"
   ]
  },
  {
   "cell_type": "code",
   "execution_count": 11,
   "metadata": {},
   "outputs": [],
   "source": [
    "#********************************** Vegan Paleo Train Test Split *******************************#\n",
    "from sklearn.model_selection import train_test_split\n",
    "features = [i for i in data.columns if i!='subreddit_vegan']\n",
    "X_train, X_test, y_train, y_test = train_test_split(data[features],\n",
    "                                                data['subreddit_vegan'],\n",
    "                                                random_state=42,\n",
    "                                                stratify=data['subreddit_vegan'])\n"
   ]
  },
  {
   "cell_type": "code",
   "execution_count": 13,
   "metadata": {},
   "outputs": [
    {
     "data": {
      "text/html": [
       "<div>\n",
       "<style scoped>\n",
       "    .dataframe tbody tr th:only-of-type {\n",
       "        vertical-align: middle;\n",
       "    }\n",
       "\n",
       "    .dataframe tbody tr th {\n",
       "        vertical-align: top;\n",
       "    }\n",
       "\n",
       "    .dataframe thead th {\n",
       "        text-align: right;\n",
       "    }\n",
       "</style>\n",
       "<table border=\"1\" class=\"dataframe\">\n",
       "  <thead>\n",
       "    <tr style=\"text-align: right;\">\n",
       "      <th></th>\n",
       "      <th>clean_title</th>\n",
       "      <th>clean_title_selftext</th>\n",
       "      <th>vader_score</th>\n",
       "    </tr>\n",
       "  </thead>\n",
       "  <tbody>\n",
       "    <tr>\n",
       "      <th>19</th>\n",
       "      <td>enlightened halo top ice cream friendly</td>\n",
       "      <td>enlightened halo top ice cream friendly fine k...</td>\n",
       "      <td>{'neg': 0.118, 'neu': 0.294, 'pos': 0.588, 'co...</td>\n",
       "    </tr>\n",
       "    <tr>\n",
       "      <th>1033</th>\n",
       "      <td>belated th july burger</td>\n",
       "      <td>belated th july burger</td>\n",
       "      <td>{'neg': 0.0, 'neu': 1.0, 'pos': 0.0, 'compound...</td>\n",
       "    </tr>\n",
       "  </tbody>\n",
       "</table>\n",
       "</div>"
      ],
      "text/plain": [
       "                                  clean_title  \\\n",
       "19    enlightened halo top ice cream friendly   \n",
       "1033                   belated th july burger   \n",
       "\n",
       "                                   clean_title_selftext  \\\n",
       "19    enlightened halo top ice cream friendly fine k...   \n",
       "1033                             belated th july burger   \n",
       "\n",
       "                                            vader_score  \n",
       "19    {'neg': 0.118, 'neu': 0.294, 'pos': 0.588, 'co...  \n",
       "1033  {'neg': 0.0, 'neu': 1.0, 'pos': 0.0, 'compound...  "
      ]
     },
     "execution_count": 13,
     "metadata": {},
     "output_type": "execute_result"
    }
   ],
   "source": [
    "X_train[['clean_title','clean_title_selftext','vader_score']].head(2)"
   ]
  },
  {
   "cell_type": "code",
   "execution_count": 14,
   "metadata": {},
   "outputs": [
    {
     "name": "stdout",
     "output_type": "stream",
     "text": [
      "X_train(1323, 14)\n",
      "y_train(1323,)\n",
      "X_test(442, 14)\n",
      "y_test(442,)\n"
     ]
    }
   ],
   "source": [
    "print(f'X_train{X_train.shape}')\n",
    "print(f'y_train{y_train.shape}')\n",
    "print(f'X_test{X_test.shape}')\n",
    "print(f'y_test{y_test.shape}')"
   ]
  },
  {
   "cell_type": "markdown",
   "metadata": {},
   "source": [
    "**Baseline Model**"
   ]
  },
  {
   "cell_type": "code",
   "execution_count": 15,
   "metadata": {},
   "outputs": [
    {
     "data": {
      "text/plain": [
       "1    0.63966\n",
       "0    0.36034\n",
       "Name: subreddit_vegan, dtype: float64"
      ]
     },
     "execution_count": 15,
     "metadata": {},
     "output_type": "execute_result"
    }
   ],
   "source": [
    "data['subreddit_vegan'].value_counts(normalize=True)"
   ]
  },
  {
   "cell_type": "markdown",
   "metadata": {},
   "source": [
    "Baseline model score is at 0.6397"
   ]
  },
  {
   "cell_type": "markdown",
   "metadata": {},
   "source": [
    "### Using CountVectorizer & TfidfVectorizer then fitting into Logistic Regression\n",
    "---"
   ]
  },
  {
   "cell_type": "markdown",
   "metadata": {},
   "source": [
    "\n",
    "**First instantiate the TF-IDF**"
   ]
  },
  {
   "cell_type": "code",
   "execution_count": 16,
   "metadata": {
    "scrolled": true
   },
   "outputs": [],
   "source": [
    "# Instantiate the \"T\" object, which is scikit-learn's bag of words tool\n",
    "from sklearn.feature_extraction.text import TfidfVectorizer\n",
    "\n",
    " \n",
    "\n",
    "tfid = TfidfVectorizer(analyzer = \"word\", tokenizer = None,\n",
    "                        preprocessor = None, stop_words = 'english',\n",
    "                        max_features = 1000, ngram_range=(1,3))\n",
    "\n",
    "\n",
    "X_train_features_tfid = tfid.fit_transform(X_train['clean_title_selftext'])\n",
    "X_test_features_tfid = tfid.transform(X_test['clean_title_selftext'])\n"
   ]
  },
  {
   "cell_type": "markdown",
   "metadata": {},
   "source": [
    "**Instantiate the CountVectorizer**"
   ]
  },
  {
   "cell_type": "code",
   "execution_count": 17,
   "metadata": {},
   "outputs": [],
   "source": [
    "# Instantiate the \"CountVectorizer\" object, which is scikit-learn's bag of words tool\n",
    "from sklearn.feature_extraction.text import CountVectorizer\n",
    "\n",
    " \n",
    "\n",
    "cvec = CountVectorizer(analyzer = \"word\", tokenizer = None,\n",
    "                        preprocessor = None, stop_words = 'english',\n",
    "                        max_features = 1000, ngram_range=(1,3))\n",
    "\n",
    "\n",
    "X_train_features_cvec = cvec.fit_transform(X_train['clean_title_selftext'])\n",
    "X_test_features_cvec = cvec.transform(X_test['clean_title_selftext'])\n"
   ]
  },
  {
   "cell_type": "code",
   "execution_count": null,
   "metadata": {},
   "outputs": [],
   "source": []
  },
  {
   "cell_type": "markdown",
   "metadata": {},
   "source": [
    "**Format the train and the test for both methods** "
   ]
  },
  {
   "cell_type": "code",
   "execution_count": 18,
   "metadata": {},
   "outputs": [
    {
     "data": {
      "text/plain": [
       "(1323, 1000)"
      ]
     },
     "metadata": {},
     "output_type": "display_data"
    }
   ],
   "source": [
    "# CountVectorizer X_train and X_test\n",
    "X_train_df_cvec = pd.DataFrame(X_train_features_cvec.todense(),columns = cvec.get_feature_names())\n",
    "X_test_df_cvec = pd.DataFrame(X_test_features_cvec.todense(),columns = cvec.get_feature_names())\n",
    "\n",
    "\n",
    "# Tfid X_train and X_test\n",
    "X_train_df_tfid = pd.DataFrame(X_train_features_tfid.todense(),columns = tfid.get_feature_names())\n",
    "X_test_df_tfid = pd.DataFrame(X_test_features_tfid.todense(),columns = tfid.get_feature_names())\n"
   ]
  },
  {
   "cell_type": "markdown",
   "metadata": {},
   "source": [
    "**Different models used to determine which one is best to use in the gridsearch**"
   ]
  },
  {
   "cell_type": "code",
   "execution_count": 60,
   "metadata": {},
   "outputs": [
    {
     "name": "stdout",
     "output_type": "stream",
     "text": [
      "\n",
      " DecisionTree model score for the train dataset is 0.7172284699742495\n"
     ]
    },
    {
     "name": "stderr",
     "output_type": "stream",
     "text": [
      "/Users/valamani/anaconda3/envs/dsi/lib/python3.7/site-packages/sklearn/ensemble/forest.py:246: FutureWarning: The default value of n_estimators will change from 10 in version 0.20 to 100 in 0.22.\n",
      "  \"10 in version 0.20 to 100 in 0.22.\", FutureWarning)\n",
      "/Users/valamani/anaconda3/envs/dsi/lib/python3.7/site-packages/sklearn/ensemble/forest.py:246: FutureWarning: The default value of n_estimators will change from 10 in version 0.20 to 100 in 0.22.\n",
      "  \"10 in version 0.20 to 100 in 0.22.\", FutureWarning)\n",
      "/Users/valamani/anaconda3/envs/dsi/lib/python3.7/site-packages/sklearn/ensemble/forest.py:246: FutureWarning: The default value of n_estimators will change from 10 in version 0.20 to 100 in 0.22.\n",
      "  \"10 in version 0.20 to 100 in 0.22.\", FutureWarning)\n",
      "/Users/valamani/anaconda3/envs/dsi/lib/python3.7/site-packages/sklearn/ensemble/forest.py:246: FutureWarning: The default value of n_estimators will change from 10 in version 0.20 to 100 in 0.22.\n",
      "  \"10 in version 0.20 to 100 in 0.22.\", FutureWarning)\n",
      "/Users/valamani/anaconda3/envs/dsi/lib/python3.7/site-packages/sklearn/ensemble/forest.py:246: FutureWarning: The default value of n_estimators will change from 10 in version 0.20 to 100 in 0.22.\n",
      "  \"10 in version 0.20 to 100 in 0.22.\", FutureWarning)\n"
     ]
    },
    {
     "name": "stdout",
     "output_type": "stream",
     "text": [
      "\n",
      " RandomForest model score for the train dataset is 0.7671827940348297\n",
      "\n",
      " AdaBoost model score for the train dataset is 0.7875746828477712\n",
      "\n",
      " KNeighbors model score for the train dataset is 0.7241036553648271\n",
      "\n",
      " LogisticRegression model score for the train dataset is 0.7921315295098811\n",
      "\n",
      " Multinomial model score for the train dataset is 0.7906020626179514\n"
     ]
    },
    {
     "name": "stderr",
     "output_type": "stream",
     "text": [
      "/Users/valamani/anaconda3/envs/dsi/lib/python3.7/site-packages/sklearn/linear_model/logistic.py:433: FutureWarning: Default solver will be changed to 'lbfgs' in 0.22. Specify a solver to silence this warning.\n",
      "  FutureWarning)\n",
      "/Users/valamani/anaconda3/envs/dsi/lib/python3.7/site-packages/sklearn/linear_model/logistic.py:433: FutureWarning: Default solver will be changed to 'lbfgs' in 0.22. Specify a solver to silence this warning.\n",
      "  FutureWarning)\n",
      "/Users/valamani/anaconda3/envs/dsi/lib/python3.7/site-packages/sklearn/linear_model/logistic.py:433: FutureWarning: Default solver will be changed to 'lbfgs' in 0.22. Specify a solver to silence this warning.\n",
      "  FutureWarning)\n",
      "/Users/valamani/anaconda3/envs/dsi/lib/python3.7/site-packages/sklearn/linear_model/logistic.py:433: FutureWarning: Default solver will be changed to 'lbfgs' in 0.22. Specify a solver to silence this warning.\n",
      "  FutureWarning)\n",
      "/Users/valamani/anaconda3/envs/dsi/lib/python3.7/site-packages/sklearn/linear_model/logistic.py:433: FutureWarning: Default solver will be changed to 'lbfgs' in 0.22. Specify a solver to silence this warning.\n",
      "  FutureWarning)\n"
     ]
    }
   ],
   "source": [
    "dt = DecisionTreeClassifier()\n",
    "rf = RandomForestClassifier()\n",
    "ada = AdaBoostClassifier()\n",
    "knn = KNeighborsClassifier()\n",
    "lr = LogisticRegression()\n",
    "nbc = MultinomialNB()\n",
    "\n",
    "models = [dt, rf, ada, knn, lr,nbc]\n",
    "models_name = ['DecisionTree', 'RandomForest', 'AdaBoost', 'KNeighbors','LogisticRegression','Multinomial']\n",
    "for i in range(len(models)):    \n",
    "    print(f'\\n {models_name[i]} model score for the train dataset is {cross_val_score(models[i],X_train_df_cvec,y_train,cv=5).mean()}')\n",
    "    \n",
    "    \n",
    "    \n",
    "    "
   ]
  },
  {
   "cell_type": "markdown",
   "metadata": {},
   "source": [
    "#### Instantiating and running a logistic regression"
   ]
  },
  {
   "cell_type": "code",
   "execution_count": 19,
   "metadata": {},
   "outputs": [
    {
     "name": "stdout",
     "output_type": "stream",
     "text": [
      "Using Count Vectorizer\n",
      "Train score is:0.9357520786092215\n",
      "Test score is: 0.7963800904977375\n"
     ]
    },
    {
     "name": "stderr",
     "output_type": "stream",
     "text": [
      "/Users/valamani/anaconda3/envs/dsi/lib/python3.7/site-packages/sklearn/linear_model/logistic.py:433: FutureWarning: Default solver will be changed to 'lbfgs' in 0.22. Specify a solver to silence this warning.\n",
      "  FutureWarning)\n"
     ]
    }
   ],
   "source": [
    "logreg_cvec = LogisticRegression()\n",
    "\n",
    "logreg_cvec.fit(X_train_df_cvec, y_train)\n",
    "print('Using Count Vectorizer')\n",
    "print(f'Train score is:{logreg_cvec.score(X_train_df_cvec, y_train)}')\n",
    "print(f'Test score is: {logreg_cvec.score(X_test_df_cvec, y_test)}')"
   ]
  },
  {
   "cell_type": "markdown",
   "metadata": {},
   "source": [
    "The countvectorizer model is very overfit"
   ]
  },
  {
   "cell_type": "code",
   "execution_count": 20,
   "metadata": {},
   "outputs": [
    {
     "name": "stdout",
     "output_type": "stream",
     "text": [
      "Using TF-IDF\n",
      "Train score is:0.8820861678004536\n",
      "Test score is: 0.7828054298642534\n"
     ]
    },
    {
     "name": "stderr",
     "output_type": "stream",
     "text": [
      "/Users/valamani/anaconda3/envs/dsi/lib/python3.7/site-packages/sklearn/linear_model/logistic.py:433: FutureWarning: Default solver will be changed to 'lbfgs' in 0.22. Specify a solver to silence this warning.\n",
      "  FutureWarning)\n"
     ]
    }
   ],
   "source": [
    "logreg_tfid = LogisticRegression()\n",
    "\n",
    "logreg_tfid.fit(X_train_df_tfid, y_train)\n",
    "print('Using TF-IDF')\n",
    "print(f'Train score is:{logreg_tfid.score(X_train_df_tfid, y_train)}')\n",
    "print(f'Test score is: {logreg_tfid.score(X_test_df_tfid, y_test)}')"
   ]
  },
  {
   "cell_type": "markdown",
   "metadata": {},
   "source": [
    "The TF_IDF is also overfit but a little more acceptable than the Cvec method"
   ]
  },
  {
   "cell_type": "markdown",
   "metadata": {},
   "source": [
    "### Create a class for the pipeline"
   ]
  },
  {
   "cell_type": "code",
   "execution_count": 26,
   "metadata": {},
   "outputs": [],
   "source": [
    "from sklearn.base import TransformerMixin\n",
    "\n",
    "class Transformer(TransformerMixin):\n",
    "    def __init__(self, *_):\n",
    "        pass\n",
    "   \n",
    "        \n",
    "    def transform(self, X, *_):\n",
    "        X = pd.DataFrame(X.toarray())\n",
    "        #if score is train:\n",
    "        X['neg'] = X_train.reset_index()['vader_score'].apply(lambda x: x.get('neg'))  #eval takes string and evaluates as python code\n",
    "        X['neu'] = X_train.reset_index()['vader_score'].apply(lambda x: x.get('neu'))\n",
    "        X['pos'] = X_train.reset_index()['vader_score'].apply(lambda x: x.get('pos'))\n",
    "        X['compound'] = X_train.reset_index()['vader_score'].apply(lambda x: x.get('compound'))\n",
    "        #else: use X_test vader \n",
    "        return X\n",
    "    \n",
    "    def fit(self, *_):\n",
    "        return self\n",
    "    \n",
    "#This code has been inspired from Erin Hwang's code and used by her permission\n"
   ]
  },
  {
   "cell_type": "markdown",
   "metadata": {},
   "source": [
    "### Gaussian using the Transformer"
   ]
  },
  {
   "cell_type": "code",
   "execution_count": null,
   "metadata": {},
   "outputs": [],
   "source": [
    "\n",
    "pipe = Pipeline([('tfid',TfidfVectorizer()),\n",
    "               ('transformer', Transformer()),\n",
    "                ('MB', GaussianNB())])\n",
    "\n",
    "\n",
    "# Count Vectorizer is preproccessing so we have to put it in pipeline with something that can \n",
    "#scored\n",
    "pipe_params = {\n",
    "    'tfid__max_features': [1000, 2500, 3000, 3500],\n",
    "    'tfid__min_df': [2, 3],\n",
    "    'tfid__max_df': [.8, .85, .95],\n",
    "    'tfid__ngram_range': [(1,1), (1,2),(1,4)],\n",
    "    \n",
    "}\n",
    "gs_mb_tfid = GridSearchCV(pipe,param_grid=pipe_params, cv=3, n_jobs=-1,verbose=1) # 3 models for each combinations\n",
    "gs_mb_tfid.fit(X_train['clean_title_selftext'], y_train)\n",
    "print(gs_mb_tfid.best_score_)\n"
   ]
  },
  {
   "cell_type": "markdown",
   "metadata": {},
   "source": [
    "### GridSearch over Countvectorizer using the transformer"
   ]
  },
  {
   "cell_type": "code",
   "execution_count": 27,
   "metadata": {},
   "outputs": [
    {
     "name": "stdout",
     "output_type": "stream",
     "text": [
      "Fitting 3 folds for each of 288 candidates, totalling 864 fits\n"
     ]
    },
    {
     "name": "stderr",
     "output_type": "stream",
     "text": [
      "[Parallel(n_jobs=-1)]: Using backend LokyBackend with 8 concurrent workers.\n",
      "[Parallel(n_jobs=-1)]: Done  34 tasks      | elapsed:    5.1s\n",
      "[Parallel(n_jobs=-1)]: Done 184 tasks      | elapsed:   15.9s\n",
      "[Parallel(n_jobs=-1)]: Done 434 tasks      | elapsed:   34.2s\n",
      "[Parallel(n_jobs=-1)]: Done 784 tasks      | elapsed:   59.8s\n",
      "[Parallel(n_jobs=-1)]: Done 864 out of 864 | elapsed:  1.1min finished\n",
      "/Users/valamani/anaconda3/envs/dsi/lib/python3.7/site-packages/sklearn/linear_model/logistic.py:433: FutureWarning: Default solver will be changed to 'lbfgs' in 0.22. Specify a solver to silence this warning.\n",
      "  FutureWarning)\n"
     ]
    },
    {
     "data": {
      "text/plain": [
       "GridSearchCV(cv=3, error_score='raise-deprecating',\n",
       "       estimator=Pipeline(memory=None,\n",
       "     steps=[('cvec', CountVectorizer(analyzer='word', binary=False, decode_error='strict',\n",
       "        dtype=<class 'numpy.int64'>, encoding='utf-8', input='content',\n",
       "        lowercase=True, max_df=1.0, max_features=None, min_df=1,\n",
       "        ngram_range=(1, 1), preprocessor=None, stop_words=None,\n",
       "        strip...penalty='l2', random_state=None, solver='warn',\n",
       "          tol=0.0001, verbose=0, warm_start=False))]),\n",
       "       fit_params=None, iid='warn', n_jobs=-1,\n",
       "       param_grid={'cvec__max_features': [2800, 3000, 3200], 'cvec__min_df': [1, 2], 'cvec__max_df': [0.2, 0.3, 0.6], 'cvec__ngram_range': [(1, 1), (1, 2)], 'lr__penalty': ['l1', 'l2'], 'lr__C': [0.01, 0.1, 10, 1000]},\n",
       "       pre_dispatch='2*n_jobs', refit=True, return_train_score='warn',\n",
       "       scoring=None, verbose=1)"
      ]
     },
     "execution_count": 27,
     "metadata": {},
     "output_type": "execute_result"
    }
   ],
   "source": [
    "import pandas as pd\n",
    "from sklearn.pipeline import Pipeline\n",
    "from sklearn.metrics import confusion_matrix\n",
    "\n",
    "pipe = Pipeline([('cvec',CountVectorizer()),\n",
    "                 ('transform', Transformer()),\n",
    "                 ('lr', LogisticRegression())])\n",
    "\n",
    "\n",
    "\n",
    "#Count Vectorizer is preproccessing so we have to put it in pipeline with something that can \n",
    "#scored\n",
    "pipe_params = {\n",
    "     'cvec__max_features': [2800,3000,3200],\n",
    "     'cvec__min_df': [1, 2],\n",
    "     'cvec__max_df': [.2,.3,.6],\n",
    "     'cvec__ngram_range': [(1,1), (1,2)],\n",
    "     'lr__penalty': ['l1','l2'],\n",
    "     'lr__C' :[.01,.1,10,1000]\n",
    "}\n",
    "gs_cvec = GridSearchCV(pipe, param_grid=pipe_params, cv=3,verbose=1,n_jobs=-1) # 3 models for each combinations\n",
    "gs_cvec.fit(X_train['clean_title_selftext'], y_train)\n"
   ]
  },
  {
   "cell_type": "code",
   "execution_count": 28,
   "metadata": {},
   "outputs": [
    {
     "name": "stdout",
     "output_type": "stream",
     "text": [
      "0.799697656840514\n",
      "{'cvec__max_df': 0.2, 'cvec__max_features': 2800, 'cvec__min_df': 2, 'cvec__ngram_range': (1, 2), 'lr__C': 10, 'lr__penalty': 'l2'}\n",
      "score for the training data is: 0.9947089947089947\n",
      "score for the test data is: 0.7986425339366516\n",
      "f1_score for the model is: 0.8499156829679595\n",
      "[[101  58]\n",
      " [ 31 252]]\n"
     ]
    }
   ],
   "source": [
    "print(gs_cvec.best_score_)\n",
    "print(gs_cvec.best_params_)\n",
    "print(f'score for the training data is: {gs_cvec.score(X_train[\"clean_title_selftext\"], y_train)}')\n",
    "print(f'score for the test data is: {gs_cvec.score(X_test[\"clean_title_selftext\"], y_test)}')\n",
    "predictions_cvec = gs_cvec.predict(X_test['clean_title_selftext'])\n",
    "print(f'f1_score for the model is: {f1_score(predictions_cvec,y_test)}')\n",
    "print(confusion_matrix(y_test, predictions_cvec))"
   ]
  },
  {
   "cell_type": "code",
   "execution_count": 68,
   "metadata": {},
   "outputs": [
    {
     "data": {
      "image/png": "[encoded data removed]",
      "text/plain": [
       "<Figure size 720x504 with 2 Axes>"
      ]
     },
     "metadata": {
      "needs_background": "light"
     },
     "output_type": "display_data"
    }
   ],
   "source": [
    "array = confusion_matrix(y_test,predictions_cvec)\n",
    "df_cm = pd.DataFrame(array, index = [i for i in ['Actual False', 'Actual True']],\n",
    "                  columns = [i for i in ['Predicted False','Predicted True']])\n",
    "plt.figure(figsize = (10,7))\n",
    "sn.heatmap(df_cm, annot=True,cmap='viridis');"
   ]
  },
  {
   "cell_type": "markdown",
   "metadata": {},
   "source": [
    "### Gridsearch over the Tfidf using the transformer "
   ]
  },
  {
   "cell_type": "code",
   "execution_count": 29,
   "metadata": {},
   "outputs": [
    {
     "name": "stdout",
     "output_type": "stream",
     "text": [
      "Fitting 3 folds for each of 576 candidates, totalling 1728 fits\n"
     ]
    },
    {
     "name": "stderr",
     "output_type": "stream",
     "text": [
      "[Parallel(n_jobs=-1)]: Using backend LokyBackend with 8 concurrent workers.\n",
      "[Parallel(n_jobs=-1)]: Done  34 tasks      | elapsed:    3.4s\n",
      "[Parallel(n_jobs=-1)]: Done 184 tasks      | elapsed:   17.6s\n",
      "[Parallel(n_jobs=-1)]: Done 434 tasks      | elapsed:   41.2s\n",
      "[Parallel(n_jobs=-1)]: Done 784 tasks      | elapsed:  1.2min\n",
      "[Parallel(n_jobs=-1)]: Done 1234 tasks      | elapsed:  2.0min\n",
      "[Parallel(n_jobs=-1)]: Done 1728 out of 1728 | elapsed:  2.8min finished\n",
      "/Users/valamani/anaconda3/envs/dsi/lib/python3.7/site-packages/sklearn/linear_model/logistic.py:433: FutureWarning: Default solver will be changed to 'lbfgs' in 0.22. Specify a solver to silence this warning.\n",
      "  FutureWarning)\n"
     ]
    },
    {
     "name": "stdout",
     "output_type": "stream",
     "text": [
      "0.799697656840514\n"
     ]
    }
   ],
   "source": [
    "import pandas as pd\n",
    "from sklearn.pipeline import Pipeline\n",
    "\n",
    "pipe = Pipeline([('tfid',TfidfVectorizer()),\n",
    "               ('transformer', Transformer()),\n",
    "                ('lr', LogisticRegression())])\n",
    "\n",
    "\n",
    "# Count Vectorizer is preproccessing so we have to put it in pipeline with something that can \n",
    "#scored\n",
    "pipe_params = {\n",
    "    'tfid__max_features': [1000, 2500, 3000, 3500],\n",
    "    'tfid__min_df': [2, 3],\n",
    "    'tfid__max_df': [.8, .85, .95],\n",
    "    'tfid__ngram_range': [(1,1), (1,2),(1,4)],\n",
    "    'lr__penalty': ['l1','l2'],\n",
    "    'lr__C' :[.01,.1,10,1000]\n",
    "}\n",
    "\n",
    "gs_tfid = GridSearchCV(pipe,param_grid=pipe_params, cv=3, n_jobs=-1,verbose=1) # 3 models for each combinations\n",
    "gs_tfid.fit(X_train['clean_title_selftext'], y_train)\n",
    "print(gs_cvec.best_score_)\n"
   ]
  },
  {
   "cell_type": "code",
   "execution_count": 32,
   "metadata": {},
   "outputs": [
    {
     "name": "stdout",
     "output_type": "stream",
     "text": [
      "{'lr__C': 10, 'lr__penalty': 'l2', 'tfid__max_df': 0.8, 'tfid__max_features': 3500, 'tfid__min_df': 2, 'tfid__ngram_range': (1, 2)}\n",
      "score for the training data is: 0.9916855631141346\n",
      "score for the test data is: 0.7895927601809954\n",
      "f1 score is 0.8436974789915966\n",
      "[[ 98  61]\n",
      " [ 32 251]]\n"
     ]
    }
   ],
   "source": [
    "print(gs_tfid.best_params_)\n",
    "print(f\"score for the training data is: {gs_tfid.score(X_train['clean_title_selftext'], y_train)}\")\n",
    "print(f\"score for the test data is: {gs_tfid.score(X_test['clean_title_selftext'], y_test)}\")\n",
    "predictions_tfid = gs_tfid.predict(X_test['clean_title_selftext'])\n",
    "print(f'f1 score is {f1_score(predictions_tfid,y_test)}')      \n",
    "print(confusion_matrix(y_test, predictions_tfid))   \n",
    "      \n",
    "      "
   ]
  },
  {
   "cell_type": "code",
   "execution_count": null,
   "metadata": {},
   "outputs": [],
   "source": []
  },
  {
   "cell_type": "markdown",
   "metadata": {},
   "source": [
    "#### Below after changing the target column we can obtain the coefficients to use in graphing in the visualization notebook"
   ]
  },
  {
   "cell_type": "code",
   "execution_count": null,
   "metadata": {},
   "outputs": [],
   "source": []
  },
  {
   "cell_type": "code",
   "execution_count": 36,
   "metadata": {},
   "outputs": [],
   "source": [
    "# #IMPORTANT: In order to use change the target column to subreddit_vegan This is used for the visualization\n",
    "# feature_coefficients = dict(zip(gs_cvec.get_feature_names(), np.exp(gs_cvec.coef_[0])))\n",
    "# vegan_feature_coefficients_df = pd.DataFrame(feature_coefficients.items(),\n",
    "#                                              columns=['word', 'coefficient'])\n",
    "# vegan_feature_coefficients_df.to_csv('dataset/vegan_logistic_coef.csv',index=False,\n",
    "#                                      header=True)\n"
   ]
  },
  {
   "cell_type": "code",
   "execution_count": null,
   "metadata": {},
   "outputs": [],
   "source": [
    "# #IMPORTANT: In order to use change the target column to subreddit_paleo This is used for the visualization\n",
    "# feature_coefficients = dict(zip(cvec.get_feature_names(), np.exp(logreg_tfid.coef_[0])))\n",
    "# paleo_feature_coefficients_df = pd.DataFrame(feature_coefficients.items(), columns=['word', 'coefficient'])\n",
    "# paleo_feature_coefficients_df.to_csv('dataset/paleo_logistic_coef.csv',index=False, header=True)"
   ]
  },
  {
   "cell_type": "markdown",
   "metadata": {},
   "source": []
  }
 ],
 "metadata": {
  "kernelspec": {
   "display_name": "Python 3",
   "language": "python",
   "name": "python3"
  },
  "language_info": {
   "codemirror_mode": {
    "name": "ipython",
    "version": 3
   },
   "file_extension": ".py",
   "mimetype": "text/x-python",
   "name": "python",
   "nbconvert_exporter": "python",
   "pygments_lexer": "ipython3",
   "version": "3.7.3"
  }
 },
 "nbformat": 4,
 "nbformat_minor": 2
}
