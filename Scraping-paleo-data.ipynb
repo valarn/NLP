{
 "cells": [
  {
   "cell_type": "markdown",
   "metadata": {},
   "source": [
    "### In this section we will go over the data gathering from reddit"
   ]
  },
  {
   "cell_type": "code",
   "execution_count": 26,
   "metadata": {},
   "outputs": [],
   "source": [
    "#Importing the packages required for gathering of the data\n",
    "import requests\n",
    "import time \n",
    "import pandas as pd"
   ]
  },
  {
   "cell_type": "code",
   "execution_count": 27,
   "metadata": {},
   "outputs": [],
   "source": [
    "# Assign the URL to the variable\n",
    "url = 'https://www.reddit.com/r/paleo/.json'"
   ]
  },
  {
   "cell_type": "code",
   "execution_count": 28,
   "metadata": {},
   "outputs": [],
   "source": [
    "# Setting a user-agent in order to access the reddit json\n",
    "headers = {'User-agent': 'dara bot 0.1'}"
   ]
  },
  {
   "cell_type": "code",
   "execution_count": 29,
   "metadata": {},
   "outputs": [],
   "source": [
    "#Connecting to the server\n",
    "res = requests.get(url, headers = headers)"
   ]
  },
  {
   "cell_type": "code",
   "execution_count": 30,
   "metadata": {},
   "outputs": [
    {
     "data": {
      "text/plain": [
       "200"
      ]
     },
     "execution_count": 30,
     "metadata": {},
     "output_type": "execute_result"
    }
   ],
   "source": [
    "# Making sure that the link is functional\n",
    "res.status_code"
   ]
  },
  {
   "cell_type": "code",
   "execution_count": 31,
   "metadata": {},
   "outputs": [],
   "source": [
    "# Extracting the json file of the page\n",
    "post_json = res.json()"
   ]
  },
  {
   "cell_type": "code",
   "execution_count": 32,
   "metadata": {},
   "outputs": [
    {
     "data": {
      "text/plain": [
       "dict_keys(['modhash', 'dist', 'children', 'after', 'before'])"
      ]
     },
     "execution_count": 32,
     "metadata": {},
     "output_type": "execute_result"
    }
   ],
   "source": [
    "# Accessing the keys from the Json \n",
    "\n",
    "post_json['data'].keys()"
   ]
  },
  {
   "cell_type": "code",
   "execution_count": 33,
   "metadata": {
    "scrolled": true
   },
   "outputs": [
    {
     "data": {
      "text/plain": [
       "{'approved_at_utc': None,\n",
       " 'subreddit': 'Paleo',\n",
       " 'selftext': '',\n",
       " 'author_fullname': 't2_37cnn4z4',\n",
       " 'saved': False,\n",
       " 'mod_reason_title': None,\n",
       " 'gilded': 0,\n",
       " 'clicked': False,\n",
       " 'title': '[Question] Favorite paleo smoothie recipe?',\n",
       " 'link_flair_richtext': [],\n",
       " 'subreddit_name_prefixed': 'r/Paleo',\n",
       " 'hidden': False,\n",
       " 'pwls': 6,\n",
       " 'link_flair_css_class': 'question',\n",
       " 'downs': 0,\n",
       " 'thumbnail_height': 140,\n",
       " 'hide_score': False,\n",
       " 'name': 't3_cbz39x',\n",
       " 'quarantine': False,\n",
       " 'link_flair_text_color': 'dark',\n",
       " 'author_flair_background_color': None,\n",
       " 'subreddit_type': 'public',\n",
       " 'ups': 12,\n",
       " 'total_awards_received': 0,\n",
       " 'media_embed': {},\n",
       " 'thumbnail_width': 140,\n",
       " 'author_flair_template_id': None,\n",
       " 'is_original_content': False,\n",
       " 'user_reports': [],\n",
       " 'secure_media': None,\n",
       " 'is_reddit_media_domain': False,\n",
       " 'is_meta': False,\n",
       " 'category': None,\n",
       " 'secure_media_embed': {},\n",
       " 'link_flair_text': 'Question',\n",
       " 'can_mod_post': False,\n",
       " 'score': 12,\n",
       " 'approved_by': None,\n",
       " 'thumbnail': 'https://b.thumbs.redditmedia.com/B44Y6zA4i_HWKqMeivVJGIAdAixJ14BBxE31HwWUljo.jpg',\n",
       " 'edited': False,\n",
       " 'author_flair_css_class': None,\n",
       " 'author_flair_richtext': [],\n",
       " 'gildings': {},\n",
       " 'content_categories': None,\n",
       " 'is_self': False,\n",
       " 'mod_note': None,\n",
       " 'crosspost_parent_list': [{'approved_at_utc': None,\n",
       "   'subreddit': 'MealPlanYourMacros',\n",
       "   'selftext': '',\n",
       "   'author_fullname': 't2_37cnn4z4',\n",
       "   'saved': False,\n",
       "   'mod_reason_title': None,\n",
       "   'gilded': 0,\n",
       "   'clicked': False,\n",
       "   'title': 'Favorite healthy smoothie recipe?',\n",
       "   'link_flair_richtext': [],\n",
       "   'subreddit_name_prefixed': 'r/MealPlanYourMacros',\n",
       "   'hidden': False,\n",
       "   'pwls': None,\n",
       "   'link_flair_css_class': None,\n",
       "   'downs': 0,\n",
       "   'thumbnail_height': None,\n",
       "   'hide_score': False,\n",
       "   'name': 't3_cbz268',\n",
       "   'quarantine': False,\n",
       "   'link_flair_text_color': 'dark',\n",
       "   'author_flair_background_color': None,\n",
       "   'subreddit_type': 'public',\n",
       "   'ups': 3,\n",
       "   'total_awards_received': 0,\n",
       "   'media_embed': {},\n",
       "   'thumbnail_width': None,\n",
       "   'author_flair_template_id': None,\n",
       "   'is_original_content': False,\n",
       "   'user_reports': [],\n",
       "   'secure_media': None,\n",
       "   'is_reddit_media_domain': False,\n",
       "   'is_meta': False,\n",
       "   'category': None,\n",
       "   'secure_media_embed': {},\n",
       "   'link_flair_text': None,\n",
       "   'can_mod_post': False,\n",
       "   'score': 3,\n",
       "   'approved_by': None,\n",
       "   'thumbnail': 'self',\n",
       "   'edited': False,\n",
       "   'author_flair_css_class': None,\n",
       "   'author_flair_richtext': [],\n",
       "   'gildings': {},\n",
       "   'content_categories': None,\n",
       "   'is_self': True,\n",
       "   'mod_note': None,\n",
       "   'created': 1562897486.0,\n",
       "   'link_flair_type': 'text',\n",
       "   'wls': None,\n",
       "   'banned_by': None,\n",
       "   'author_flair_type': 'text',\n",
       "   'domain': 'self.MealPlanYourMacros',\n",
       "   'allow_live_comments': False,\n",
       "   'selftext_html': None,\n",
       "   'likes': None,\n",
       "   'suggested_sort': None,\n",
       "   'banned_at_utc': None,\n",
       "   'view_count': None,\n",
       "   'archived': False,\n",
       "   'no_follow': False,\n",
       "   'is_crosspostable': False,\n",
       "   'pinned': False,\n",
       "   'over_18': False,\n",
       "   'all_awardings': [],\n",
       "   'media_only': False,\n",
       "   'can_gild': False,\n",
       "   'spoiler': False,\n",
       "   'locked': False,\n",
       "   'author_flair_text': None,\n",
       "   'visited': False,\n",
       "   'num_reports': None,\n",
       "   'distinguished': None,\n",
       "   'subreddit_id': 't5_109mys',\n",
       "   'mod_reason_by': None,\n",
       "   'removal_reason': None,\n",
       "   'link_flair_background_color': '',\n",
       "   'id': 'cbz268',\n",
       "   'is_robot_indexable': True,\n",
       "   'report_reasons': None,\n",
       "   'author': 'racheleatsright',\n",
       "   'num_crossposts': 2,\n",
       "   'num_comments': 11,\n",
       "   'send_replies': True,\n",
       "   'whitelist_status': None,\n",
       "   'contest_mode': False,\n",
       "   'mod_reports': [],\n",
       "   'author_patreon_flair': False,\n",
       "   'author_flair_text_color': None,\n",
       "   'permalink': '/r/MealPlanYourMacros/comments/cbz268/favorite_healthy_smoothie_recipe/',\n",
       "   'parent_whitelist_status': None,\n",
       "   'stickied': False,\n",
       "   'url': 'https://www.reddit.com/r/MealPlanYourMacros/comments/cbz268/favorite_healthy_smoothie_recipe/',\n",
       "   'subreddit_subscribers': 893,\n",
       "   'created_utc': 1562868686.0,\n",
       "   'discussion_type': None,\n",
       "   'media': None,\n",
       "   'is_video': False}],\n",
       " 'created': 1562897623.0,\n",
       " 'link_flair_type': 'text',\n",
       " 'wls': 6,\n",
       " 'banned_by': None,\n",
       " 'author_flair_type': 'text',\n",
       " 'domain': 'self.MealPlanYourMacros',\n",
       " 'allow_live_comments': False,\n",
       " 'selftext_html': None,\n",
       " 'likes': None,\n",
       " 'suggested_sort': None,\n",
       " 'banned_at_utc': None,\n",
       " 'view_count': None,\n",
       " 'archived': False,\n",
       " 'no_follow': False,\n",
       " 'is_crosspostable': False,\n",
       " 'pinned': False,\n",
       " 'over_18': False,\n",
       " 'all_awardings': [],\n",
       " 'media_only': False,\n",
       " 'can_gild': False,\n",
       " 'spoiler': False,\n",
       " 'locked': False,\n",
       " 'author_flair_text': None,\n",
       " 'visited': False,\n",
       " 'num_reports': None,\n",
       " 'distinguished': None,\n",
       " 'subreddit_id': 't5_2qzzs',\n",
       " 'mod_reason_by': None,\n",
       " 'removal_reason': None,\n",
       " 'link_flair_background_color': '',\n",
       " 'id': 'cbz39x',\n",
       " 'is_robot_indexable': True,\n",
       " 'stickied': False,\n",
       " 'author': 'racheleatsright',\n",
       " 'num_crossposts': 0,\n",
       " 'num_comments': 10,\n",
       " 'send_replies': True,\n",
       " 'whitelist_status': 'all_ads',\n",
       " 'contest_mode': False,\n",
       " 'mod_reports': [],\n",
       " 'author_patreon_flair': False,\n",
       " 'crosspost_parent': 't3_cbz268',\n",
       " 'author_flair_text_color': None,\n",
       " 'permalink': '/r/Paleo/comments/cbz39x/question_favorite_paleo_smoothie_recipe/',\n",
       " 'parent_whitelist_status': 'all_ads',\n",
       " 'report_reasons': None,\n",
       " 'url': 'https://www.reddit.com/r/MealPlanYourMacros/comments/cbz268/favorite_healthy_smoothie_recipe/',\n",
       " 'subreddit_subscribers': 141521,\n",
       " 'created_utc': 1562868823.0,\n",
       " 'discussion_type': None,\n",
       " 'media': None,\n",
       " 'is_video': False}"
      ]
     },
     "execution_count": 33,
     "metadata": {},
     "output_type": "execute_result"
    }
   ],
   "source": [
    "# Accessing the data from Json\n",
    "post_json['data']['children'][0]['data']"
   ]
  },
  {
   "cell_type": "code",
   "execution_count": 34,
   "metadata": {},
   "outputs": [
    {
     "data": {
      "text/plain": [
       "99"
      ]
     },
     "execution_count": 34,
     "metadata": {},
     "output_type": "execute_result"
    }
   ],
   "source": [
    "# There are 99 columns designated for each of the posts\n",
    "len(post_json['data']['children'][0]['data'])"
   ]
  },
  {
   "cell_type": "code",
   "execution_count": 35,
   "metadata": {},
   "outputs": [],
   "source": [
    "#[post['data']['name'] for post in ski_json['data']['children']]"
   ]
  },
  {
   "cell_type": "code",
   "execution_count": 36,
   "metadata": {},
   "outputs": [],
   "source": [
    "last_post = post_json['data']['after']"
   ]
  },
  {
   "cell_type": "code",
   "execution_count": 37,
   "metadata": {},
   "outputs": [
    {
     "data": {
      "text/plain": [
       "'t3_c99azv'"
      ]
     },
     "execution_count": 37,
     "metadata": {},
     "output_type": "execute_result"
    }
   ],
   "source": [
    "last_post"
   ]
  },
  {
   "cell_type": "code",
   "execution_count": 38,
   "metadata": {},
   "outputs": [
    {
     "name": "stdout",
     "output_type": "stream",
     "text": [
      "0\n",
      "Current Scrape:\n",
      "25 posts scraped for the total of 25\n",
      "1\n",
      "Current Scrape:\n",
      "25 posts scraped for the total of 50\n",
      "2\n",
      "Current Scrape:\n",
      "25 posts scraped for the total of 75\n",
      "3\n",
      "Current Scrape:\n",
      "25 posts scraped for the total of 100\n",
      "4\n",
      "Current Scrape:\n",
      "25 posts scraped for the total of 125\n",
      "5\n",
      "Current Scrape:\n",
      "25 posts scraped for the total of 150\n",
      "6\n",
      "Current Scrape:\n",
      "25 posts scraped for the total of 175\n",
      "7\n",
      "Current Scrape:\n",
      "25 posts scraped for the total of 200\n",
      "8\n",
      "Current Scrape:\n",
      "25 posts scraped for the total of 225\n",
      "9\n",
      "Current Scrape:\n",
      "25 posts scraped for the total of 250\n",
      "10\n",
      "Current Scrape:\n",
      "25 posts scraped for the total of 275\n",
      "11\n",
      "Current Scrape:\n",
      "25 posts scraped for the total of 300\n",
      "12\n",
      "Current Scrape:\n",
      "25 posts scraped for the total of 325\n",
      "13\n",
      "Current Scrape:\n",
      "25 posts scraped for the total of 350\n",
      "14\n",
      "Current Scrape:\n",
      "25 posts scraped for the total of 375\n",
      "15\n",
      "Current Scrape:\n",
      "25 posts scraped for the total of 400\n",
      "16\n",
      "Current Scrape:\n",
      "25 posts scraped for the total of 425\n",
      "17\n",
      "Current Scrape:\n",
      "25 posts scraped for the total of 450\n",
      "18\n",
      "Current Scrape:\n",
      "25 posts scraped for the total of 475\n",
      "19\n",
      "Current Scrape:\n",
      "25 posts scraped for the total of 500\n",
      "20\n",
      "Current Scrape:\n",
      "25 posts scraped for the total of 525\n",
      "21\n",
      "Current Scrape:\n",
      "25 posts scraped for the total of 550\n",
      "22\n",
      "Current Scrape:\n",
      "25 posts scraped for the total of 575\n",
      "23\n",
      "Current Scrape:\n",
      "25 posts scraped for the total of 600\n",
      "24\n",
      "Current Scrape:\n",
      "25 posts scraped for the total of 625\n",
      "25\n",
      "Current Scrape:\n",
      "11 posts scraped for the total of 636\n",
      "26\n",
      "Current Scrape:\n",
      "25 posts scraped for the total of 661\n",
      "27\n",
      "Current Scrape:\n",
      "25 posts scraped for the total of 686\n",
      "28\n",
      "Current Scrape:\n",
      "25 posts scraped for the total of 711\n",
      "29\n",
      "Current Scrape:\n",
      "25 posts scraped for the total of 736\n",
      "30\n",
      "Current Scrape:\n",
      "25 posts scraped for the total of 761\n",
      "31\n",
      "Current Scrape:\n",
      "25 posts scraped for the total of 786\n",
      "32\n",
      "Current Scrape:\n",
      "25 posts scraped for the total of 811\n",
      "33\n",
      "Current Scrape:\n",
      "25 posts scraped for the total of 836\n",
      "34\n",
      "Current Scrape:\n",
      "25 posts scraped for the total of 861\n",
      "35\n",
      "Current Scrape:\n",
      "25 posts scraped for the total of 886\n",
      "36\n",
      "Current Scrape:\n",
      "25 posts scraped for the total of 911\n",
      "37\n",
      "Current Scrape:\n",
      "25 posts scraped for the total of 936\n",
      "38\n",
      "Current Scrape:\n",
      "25 posts scraped for the total of 961\n",
      "39\n",
      "Current Scrape:\n",
      "25 posts scraped for the total of 986\n",
      "40\n",
      "Current Scrape:\n",
      "25 posts scraped for the total of 1011\n",
      "41\n",
      "Current Scrape:\n",
      "25 posts scraped for the total of 1036\n",
      "42\n",
      "Current Scrape:\n",
      "25 posts scraped for the total of 1061\n",
      "43\n",
      "Current Scrape:\n",
      "25 posts scraped for the total of 1086\n",
      "44\n",
      "Current Scrape:\n",
      "25 posts scraped for the total of 1111\n",
      "45\n",
      "Current Scrape:\n",
      "25 posts scraped for the total of 1136\n",
      "46\n",
      "Current Scrape:\n",
      "25 posts scraped for the total of 1161\n",
      "47\n",
      "Current Scrape:\n",
      "25 posts scraped for the total of 1186\n",
      "48\n",
      "Current Scrape:\n",
      "25 posts scraped for the total of 1211\n",
      "49\n",
      "Current Scrape:\n",
      "25 posts scraped for the total of 1236\n"
     ]
    }
   ],
   "source": [
    "posts= []\n",
    "after = None\n",
    "for i in range(50):\n",
    "    print(i)\n",
    "    if after == None:\n",
    "        params = {}\n",
    "    else:\n",
    "        params = {'after': after}\n",
    "    \n",
    "    res = requests.get(url, params = params, headers = headers)\n",
    "    if res.status_code == 200:\n",
    "        post_json = res.json()\n",
    "        for post in post_json['data']['children']:\n",
    "            posts.append(post['data'])\n",
    "        after = post_json['data']['after']\n",
    "    \n",
    "    else:\n",
    "        print(res.status_code)\n",
    "        break\n",
    "    print('Current Scrape:')\n",
    "    print(f\"{len(post_json['data']['children'])} posts scraped for the total of {len(posts)}\")\n",
    "    time.sleep(1)"
   ]
  },
  {
   "cell_type": "code",
   "execution_count": 39,
   "metadata": {},
   "outputs": [],
   "source": [
    "df_paleo = pd.DataFrame(posts)"
   ]
  },
  {
   "cell_type": "code",
   "execution_count": 41,
   "metadata": {},
   "outputs": [
    {
     "data": {
      "text/plain": [
       "(1236, 103)"
      ]
     },
     "execution_count": 41,
     "metadata": {},
     "output_type": "execute_result"
    }
   ],
   "source": [
    "df_paleo.shape"
   ]
  },
  {
   "cell_type": "code",
   "execution_count": 42,
   "metadata": {},
   "outputs": [],
   "source": [
    "df_paleo.drop_duplicates(subset='title', keep='last', inplace=True)"
   ]
  },
  {
   "cell_type": "code",
   "execution_count": 43,
   "metadata": {},
   "outputs": [
    {
     "data": {
      "text/plain": [
       "(635, 103)"
      ]
     },
     "execution_count": 43,
     "metadata": {},
     "output_type": "execute_result"
    }
   ],
   "source": [
    "df_paleo.shape"
   ]
  },
  {
   "cell_type": "code",
   "execution_count": 25,
   "metadata": {},
   "outputs": [
    {
     "data": {
      "text/plain": [
       "9.0"
      ]
     },
     "execution_count": 25,
     "metadata": {},
     "output_type": "execute_result"
    }
   ],
   "source": [
    "df_paleo['num_comments'].median()"
   ]
  },
  {
   "cell_type": "code",
   "execution_count": null,
   "metadata": {},
   "outputs": [],
   "source": []
  },
  {
   "cell_type": "code",
   "execution_count": 19,
   "metadata": {},
   "outputs": [
    {
     "data": {
      "text/plain": [
       "637"
      ]
     },
     "execution_count": 19,
     "metadata": {},
     "output_type": "execute_result"
    }
   ],
   "source": [
    "#Sanity check to make sure there are no duplicate posts in our dataframe\n",
    "len(set([p['name'] for p in posts]))"
   ]
  },
  {
   "cell_type": "code",
   "execution_count": 20,
   "metadata": {},
   "outputs": [],
   "source": [
    "#  df_paleo.to_csv('dataset/paleo_posts.csv',mode = 'a' , header=True, index=False)\n"
   ]
  },
  {
   "cell_type": "code",
   "execution_count": 21,
   "metadata": {},
   "outputs": [],
   "source": [
    " df_paleo.to_csv('dataset/paleo_posts.csv',mode = 'a' , header=False, index=False)\n"
   ]
  },
  {
   "cell_type": "code",
   "execution_count": null,
   "metadata": {},
   "outputs": [],
   "source": []
  }
 ],
 "metadata": {
  "kernelspec": {
   "display_name": "Python 3",
   "language": "python",
   "name": "python3"
  },
  "language_info": {
   "codemirror_mode": {
    "name": "ipython",
    "version": 3
   },
   "file_extension": ".py",
   "mimetype": "text/x-python",
   "name": "python",
   "nbconvert_exporter": "python",
   "pygments_lexer": "ipython3",
   "version": "3.7.3"
  }
 },
 "nbformat": 4,
 "nbformat_minor": 2
}
