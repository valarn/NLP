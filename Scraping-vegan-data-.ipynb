{
 "cells": [
  {
   "cell_type": "markdown",
   "metadata": {},
   "source": [
    "### In this section we will go over the data gathering from reddit"
   ]
  },
  {
   "cell_type": "code",
   "execution_count": 1,
   "metadata": {},
   "outputs": [],
   "source": [
    "#Importing the packages required for gathering of the data\n",
    "import requests\n",
    "import time \n",
    "import pandas as pd"
   ]
  },
  {
   "cell_type": "code",
   "execution_count": 2,
   "metadata": {},
   "outputs": [],
   "source": [
    "# Assign the URL to the variable\n",
    "url_vegan = 'https://www.reddit.com/r/vegan/.json'"
   ]
  },
  {
   "cell_type": "code",
   "execution_count": 3,
   "metadata": {},
   "outputs": [],
   "source": [
    "# Setting a user-agent in order to access the reddit json\n",
    "headers = {'User-agent': 'dara bot 0.1'}"
   ]
  },
  {
   "cell_type": "code",
   "execution_count": 4,
   "metadata": {},
   "outputs": [],
   "source": [
    "#Connecting to the server\n",
    "res_vegan = requests.get(url_vegan, headers = headers)"
   ]
  },
  {
   "cell_type": "code",
   "execution_count": 5,
   "metadata": {},
   "outputs": [
    {
     "data": {
      "text/plain": [
       "200"
      ]
     },
     "execution_count": 5,
     "metadata": {},
     "output_type": "execute_result"
    }
   ],
   "source": [
    "# Making sure that the link is functional\n",
    "res_vegan.status_code"
   ]
  },
  {
   "cell_type": "code",
   "execution_count": 6,
   "metadata": {},
   "outputs": [],
   "source": [
    "# Extracting the json file of the page\n",
    "vegan_json = res_vegan.json()"
   ]
  },
  {
   "cell_type": "code",
   "execution_count": 7,
   "metadata": {},
   "outputs": [
    {
     "data": {
      "text/plain": [
       "dict_keys(['modhash', 'dist', 'children', 'after', 'before'])"
      ]
     },
     "execution_count": 7,
     "metadata": {},
     "output_type": "execute_result"
    }
   ],
   "source": [
    "# Accessing the keys from the Json \n",
    "\n",
    "vegan_json['data'].keys()"
   ]
  },
  {
   "cell_type": "code",
   "execution_count": 8,
   "metadata": {
    "scrolled": true
   },
   "outputs": [
    {
     "data": {
      "text/plain": [
       "{'approved_at_utc': None,\n",
       " 'subreddit': 'vegan',\n",
       " 'selftext': \" **Hallo there** **Vegans (and the vegan curious) of** [**r/vegan**](https://old.reddit.com/r/vegan)**!**\\n\\nThis is the thread for the week of **July 2nd, 2019** to comment on with all your vegan related random thoughts, small questions, or general discussion points. If you believe what you have to share warrants a separate entry on [r/vegan](https://old.reddit.com/r/vegan), you're still highly encouraged to do so, but this post serves as a place for everything else. :)\\n\\nIt's pretty much anything goes, keeping in mind that all of our community rules (found in the sidebar) equally apply here. Basically just try your best to work and play well with others, and please keep the topics generally on vegan related issues while not crossing into debating territory (feel free to use [/r/DebateAVegan](https://www.reddit.com/r/DebateAVegan/) for that)!\\n\\n**Notes that we think you might find useful below:**\\n\\n* REMEMBER: We depend **on** **you** to click the report button on problematic posts and comments! See someone breaking any of [our civility rules](https://www.reddit.com/r/vegan/wiki/rules) (e.g. name calling, etc.) then let us know so we can take care of it quicker!\\n* Do you want to **do more** for the animals/veganism? Please visit [**VeganActivism.org**](https://veganactivism.org/) and subscribe to our community here at [/r/VeganActivism](https://old.reddit.com/r/VeganActivism) to continue your journey spreading compassion through activism!\\n* Do you know of any good candidates for having an **Ask Me Anything** (AMA) or similar such event on [r/Vegan](https://www.reddit.com/r/Vegan/)? If so, prompt them to [send a message to the mods](https://www.reddit.com/message/compose?to=%2Fr%2FVegan) and we'll chat through making that happen.\\n\\nThat's it everyone, keep the discussion below civil, stay compassionate, and thanks for being awesome!\\n\\n**Please see the stickied comment below on this thread for any relevant announcements for this week!**\",\n",
       " 'author_fullname': 't2_2xq9ryss',\n",
       " 'saved': False,\n",
       " 'mod_reason_title': None,\n",
       " 'gilded': 0,\n",
       " 'clicked': False,\n",
       " 'title': 'Random Thoughts, Small Questions, and General Discussion (week of July 2nd, 2019)',\n",
       " 'link_flair_richtext': [],\n",
       " 'subreddit_name_prefixed': 'r/vegan',\n",
       " 'hidden': False,\n",
       " 'pwls': 6,\n",
       " 'link_flair_css_class': 'Meta',\n",
       " 'downs': 0,\n",
       " 'thumbnail_height': None,\n",
       " 'hide_score': False,\n",
       " 'name': 't3_c87gtm',\n",
       " 'quarantine': False,\n",
       " 'link_flair_text_color': 'dark',\n",
       " 'author_flair_background_color': None,\n",
       " 'subreddit_type': 'public',\n",
       " 'ups': 36,\n",
       " 'total_awards_received': 0,\n",
       " 'media_embed': {},\n",
       " 'thumbnail_width': None,\n",
       " 'author_flair_template_id': None,\n",
       " 'is_original_content': False,\n",
       " 'user_reports': [],\n",
       " 'secure_media': None,\n",
       " 'is_reddit_media_domain': False,\n",
       " 'is_meta': False,\n",
       " 'category': None,\n",
       " 'secure_media_embed': {},\n",
       " 'link_flair_text': 'Meta',\n",
       " 'can_mod_post': False,\n",
       " 'score': 36,\n",
       " 'approved_by': None,\n",
       " 'thumbnail': 'self',\n",
       " 'edited': False,\n",
       " 'author_flair_css_class': None,\n",
       " 'author_flair_richtext': [],\n",
       " 'gildings': {},\n",
       " 'content_categories': None,\n",
       " 'is_self': True,\n",
       " 'mod_note': None,\n",
       " 'created': 1562091038.0,\n",
       " 'link_flair_type': 'text',\n",
       " 'wls': 6,\n",
       " 'banned_by': None,\n",
       " 'author_flair_type': 'text',\n",
       " 'domain': 'self.vegan',\n",
       " 'allow_live_comments': False,\n",
       " 'selftext_html': '&lt;!-- SC_OFF --&gt;&lt;div class=\"md\"&gt;&lt;p&gt;&lt;strong&gt;Hallo there&lt;/strong&gt; &lt;strong&gt;Vegans (and the vegan curious) of&lt;/strong&gt; &lt;a href=\"https://old.reddit.com/r/vegan\"&gt;&lt;strong&gt;r/vegan&lt;/strong&gt;&lt;/a&gt;&lt;strong&gt;!&lt;/strong&gt;&lt;/p&gt;\\n\\n&lt;p&gt;This is the thread for the week of &lt;strong&gt;July 2nd, 2019&lt;/strong&gt; to comment on with all your vegan related random thoughts, small questions, or general discussion points. If you believe what you have to share warrants a separate entry on &lt;a href=\"https://old.reddit.com/r/vegan\"&gt;r/vegan&lt;/a&gt;, you&amp;#39;re still highly encouraged to do so, but this post serves as a place for everything else. :)&lt;/p&gt;\\n\\n&lt;p&gt;It&amp;#39;s pretty much anything goes, keeping in mind that all of our community rules (found in the sidebar) equally apply here. Basically just try your best to work and play well with others, and please keep the topics generally on vegan related issues while not crossing into debating territory (feel free to use &lt;a href=\"https://www.reddit.com/r/DebateAVegan/\"&gt;/r/DebateAVegan&lt;/a&gt; for that)!&lt;/p&gt;\\n\\n&lt;p&gt;&lt;strong&gt;Notes that we think you might find useful below:&lt;/strong&gt;&lt;/p&gt;\\n\\n&lt;ul&gt;\\n&lt;li&gt;REMEMBER: We depend &lt;strong&gt;on&lt;/strong&gt; &lt;strong&gt;you&lt;/strong&gt; to click the report button on problematic posts and comments! See someone breaking any of &lt;a href=\"https://www.reddit.com/r/vegan/wiki/rules\"&gt;our civility rules&lt;/a&gt; (e.g. name calling, etc.) then let us know so we can take care of it quicker!&lt;/li&gt;\\n&lt;li&gt;Do you want to &lt;strong&gt;do more&lt;/strong&gt; for the animals/veganism? Please visit &lt;a href=\"https://veganactivism.org/\"&gt;&lt;strong&gt;VeganActivism.org&lt;/strong&gt;&lt;/a&gt; and subscribe to our community here at &lt;a href=\"https://old.reddit.com/r/VeganActivism\"&gt;/r/VeganActivism&lt;/a&gt; to continue your journey spreading compassion through activism!&lt;/li&gt;\\n&lt;li&gt;Do you know of any good candidates for having an &lt;strong&gt;Ask Me Anything&lt;/strong&gt; (AMA) or similar such event on &lt;a href=\"https://www.reddit.com/r/Vegan/\"&gt;r/Vegan&lt;/a&gt;? If so, prompt them to &lt;a href=\"https://www.reddit.com/message/compose?to=%2Fr%2FVegan\"&gt;send a message to the mods&lt;/a&gt; and we&amp;#39;ll chat through making that happen.&lt;/li&gt;\\n&lt;/ul&gt;\\n\\n&lt;p&gt;That&amp;#39;s it everyone, keep the discussion below civil, stay compassionate, and thanks for being awesome!&lt;/p&gt;\\n\\n&lt;p&gt;&lt;strong&gt;Please see the stickied comment below on this thread for any relevant announcements for this week!&lt;/strong&gt;&lt;/p&gt;\\n&lt;/div&gt;&lt;!-- SC_ON --&gt;',\n",
       " 'likes': None,\n",
       " 'suggested_sort': 'new',\n",
       " 'banned_at_utc': None,\n",
       " 'view_count': None,\n",
       " 'archived': False,\n",
       " 'no_follow': False,\n",
       " 'is_crosspostable': False,\n",
       " 'pinned': False,\n",
       " 'over_18': False,\n",
       " 'all_awardings': [],\n",
       " 'media_only': False,\n",
       " 'link_flair_template_id': 'dd42b3ce-f024-11e2-8dba-12313b0ae2ae',\n",
       " 'can_gild': False,\n",
       " 'spoiler': False,\n",
       " 'locked': False,\n",
       " 'author_flair_text': None,\n",
       " 'visited': False,\n",
       " 'num_reports': None,\n",
       " 'distinguished': 'moderator',\n",
       " 'subreddit_id': 't5_2qhpm',\n",
       " 'mod_reason_by': None,\n",
       " 'removal_reason': None,\n",
       " 'link_flair_background_color': '',\n",
       " 'id': 'c87gtm',\n",
       " 'is_robot_indexable': True,\n",
       " 'report_reasons': None,\n",
       " 'author': 'veganactivismbot',\n",
       " 'num_crossposts': 0,\n",
       " 'num_comments': 368,\n",
       " 'send_replies': True,\n",
       " 'whitelist_status': 'all_ads',\n",
       " 'contest_mode': False,\n",
       " 'mod_reports': [],\n",
       " 'author_patreon_flair': False,\n",
       " 'author_flair_text_color': None,\n",
       " 'permalink': '/r/vegan/comments/c87gtm/random_thoughts_small_questions_and_general/',\n",
       " 'parent_whitelist_status': 'all_ads',\n",
       " 'stickied': True,\n",
       " 'url': 'https://www.reddit.com/r/vegan/comments/c87gtm/random_thoughts_small_questions_and_general/',\n",
       " 'subreddit_subscribers': 345005,\n",
       " 'created_utc': 1562062238.0,\n",
       " 'discussion_type': None,\n",
       " 'media': None,\n",
       " 'is_video': False}"
      ]
     },
     "execution_count": 8,
     "metadata": {},
     "output_type": "execute_result"
    }
   ],
   "source": [
    "# Accessing the data from Json\n",
    "vegan_json['data']['children'][0]['data']"
   ]
  },
  {
   "cell_type": "code",
   "execution_count": 9,
   "metadata": {},
   "outputs": [
    {
     "data": {
      "text/plain": [
       "98"
      ]
     },
     "execution_count": 9,
     "metadata": {},
     "output_type": "execute_result"
    }
   ],
   "source": [
    "# There are 99 columns designated for each of the posts\n",
    "len(vegan_json['data']['children'][0]['data'])"
   ]
  },
  {
   "cell_type": "code",
   "execution_count": 10,
   "metadata": {},
   "outputs": [],
   "source": [
    "#[post['data']['name'] for post in ski_json['data']['children']]"
   ]
  },
  {
   "cell_type": "code",
   "execution_count": 11,
   "metadata": {},
   "outputs": [],
   "source": [
    "last_post = vegan_json['data']['after']"
   ]
  },
  {
   "cell_type": "code",
   "execution_count": 12,
   "metadata": {},
   "outputs": [
    {
     "data": {
      "text/plain": [
       "'t3_cc40nm'"
      ]
     },
     "execution_count": 12,
     "metadata": {},
     "output_type": "execute_result"
    }
   ],
   "source": [
    "last_post"
   ]
  },
  {
   "cell_type": "code",
   "execution_count": 13,
   "metadata": {},
   "outputs": [
    {
     "name": "stdout",
     "output_type": "stream",
     "text": [
      "0\n",
      "Current Scrape:\n",
      "26 posts scraped for the total of 26\n",
      "1\n",
      "Current Scrape:\n",
      "25 posts scraped for the total of 51\n",
      "2\n",
      "Current Scrape:\n",
      "25 posts scraped for the total of 76\n",
      "3\n",
      "Current Scrape:\n",
      "25 posts scraped for the total of 101\n",
      "4\n",
      "Current Scrape:\n",
      "25 posts scraped for the total of 126\n",
      "5\n",
      "Current Scrape:\n",
      "25 posts scraped for the total of 151\n",
      "6\n",
      "Current Scrape:\n",
      "25 posts scraped for the total of 176\n",
      "7\n",
      "Current Scrape:\n",
      "25 posts scraped for the total of 201\n",
      "8\n",
      "Current Scrape:\n",
      "25 posts scraped for the total of 226\n",
      "9\n",
      "Current Scrape:\n",
      "25 posts scraped for the total of 251\n",
      "10\n",
      "Current Scrape:\n",
      "25 posts scraped for the total of 276\n",
      "11\n",
      "Current Scrape:\n",
      "25 posts scraped for the total of 301\n",
      "12\n",
      "Current Scrape:\n",
      "25 posts scraped for the total of 326\n",
      "13\n",
      "Current Scrape:\n",
      "25 posts scraped for the total of 351\n",
      "14\n",
      "Current Scrape:\n",
      "25 posts scraped for the total of 376\n",
      "15\n",
      "Current Scrape:\n",
      "25 posts scraped for the total of 401\n",
      "16\n",
      "Current Scrape:\n",
      "25 posts scraped for the total of 426\n",
      "17\n",
      "Current Scrape:\n",
      "25 posts scraped for the total of 451\n",
      "18\n",
      "Current Scrape:\n",
      "25 posts scraped for the total of 476\n",
      "19\n",
      "Current Scrape:\n",
      "25 posts scraped for the total of 501\n",
      "20\n",
      "Current Scrape:\n",
      "25 posts scraped for the total of 526\n",
      "21\n",
      "Current Scrape:\n",
      "25 posts scraped for the total of 551\n",
      "22\n",
      "Current Scrape:\n",
      "25 posts scraped for the total of 576\n",
      "23\n",
      "Current Scrape:\n",
      "25 posts scraped for the total of 601\n",
      "24\n",
      "Current Scrape:\n",
      "25 posts scraped for the total of 626\n",
      "25\n",
      "Current Scrape:\n",
      "25 posts scraped for the total of 651\n",
      "26\n",
      "Current Scrape:\n",
      "25 posts scraped for the total of 676\n",
      "27\n",
      "Current Scrape:\n",
      "25 posts scraped for the total of 701\n",
      "28\n",
      "Current Scrape:\n",
      "25 posts scraped for the total of 726\n",
      "29\n",
      "Current Scrape:\n",
      "25 posts scraped for the total of 751\n",
      "30\n",
      "Current Scrape:\n",
      "25 posts scraped for the total of 776\n",
      "31\n",
      "Current Scrape:\n",
      "25 posts scraped for the total of 801\n",
      "32\n",
      "Current Scrape:\n",
      "25 posts scraped for the total of 826\n",
      "33\n",
      "Current Scrape:\n",
      "25 posts scraped for the total of 851\n",
      "34\n",
      "Current Scrape:\n",
      "25 posts scraped for the total of 876\n",
      "35\n",
      "Current Scrape:\n",
      "25 posts scraped for the total of 901\n",
      "36\n",
      "Current Scrape:\n",
      "25 posts scraped for the total of 926\n",
      "37\n",
      "Current Scrape:\n",
      "25 posts scraped for the total of 951\n",
      "38\n",
      "Current Scrape:\n",
      "22 posts scraped for the total of 973\n",
      "39\n",
      "Current Scrape:\n",
      "26 posts scraped for the total of 999\n",
      "40\n",
      "Current Scrape:\n",
      "25 posts scraped for the total of 1024\n",
      "41\n",
      "Current Scrape:\n",
      "25 posts scraped for the total of 1049\n",
      "42\n",
      "Current Scrape:\n",
      "25 posts scraped for the total of 1074\n",
      "43\n",
      "Current Scrape:\n",
      "25 posts scraped for the total of 1099\n",
      "44\n",
      "Current Scrape:\n",
      "25 posts scraped for the total of 1124\n"
     ]
    }
   ],
   "source": [
    "vegan_posts= []\n",
    "after = None\n",
    "for i in range(45):\n",
    "    print(i)\n",
    "    if after == None:\n",
    "        params = {}\n",
    "    else:\n",
    "        params = {'after': after}\n",
    "    \n",
    "    res_vegan = requests.get(url_vegan, params = params, headers = headers)\n",
    "    if res_vegan.status_code == 200:\n",
    "        vegan_json = res_vegan.json()\n",
    "        for post in vegan_json['data']['children']:\n",
    "            vegan_posts.append(post['data'])\n",
    "        after = vegan_json['data']['after']\n",
    "    \n",
    "    else:\n",
    "        print(res.status_code)\n",
    "        break\n",
    "    print('Current Scrape:')\n",
    "    print(f\"{len(vegan_json['data']['children'])} posts scraped for the total of {len(vegan_posts)}\")\n",
    "    time.sleep(1)"
   ]
  },
  {
   "cell_type": "code",
   "execution_count": 14,
   "metadata": {},
   "outputs": [],
   "source": [
    "df_vegan = pd.DataFrame(vegan_posts)"
   ]
  },
  {
   "cell_type": "code",
   "execution_count": 15,
   "metadata": {},
   "outputs": [
    {
     "data": {
      "text/plain": [
       "(1124, 104)"
      ]
     },
     "execution_count": 15,
     "metadata": {},
     "output_type": "execute_result"
    }
   ],
   "source": [
    "df_vegan.shape"
   ]
  },
  {
   "cell_type": "code",
   "execution_count": null,
   "metadata": {},
   "outputs": [],
   "source": []
  },
  {
   "cell_type": "code",
   "execution_count": 17,
   "metadata": {},
   "outputs": [],
   "source": [
    "df_vegan.drop_duplicates(subset='id', keep='last', inplace=True)"
   ]
  },
  {
   "cell_type": "code",
   "execution_count": 22,
   "metadata": {},
   "outputs": [
    {
     "data": {
      "text/plain": [
       "(973, 104)"
      ]
     },
     "execution_count": 22,
     "metadata": {},
     "output_type": "execute_result"
    }
   ],
   "source": [
    "df_vegan.shape"
   ]
  },
  {
   "cell_type": "code",
   "execution_count": 23,
   "metadata": {},
   "outputs": [
    {
     "data": {
      "text/plain": [
       "6.0"
      ]
     },
     "execution_count": 23,
     "metadata": {},
     "output_type": "execute_result"
    }
   ],
   "source": [
    "df_vegan['num_comments'].median()"
   ]
  },
  {
   "cell_type": "code",
   "execution_count": 19,
   "metadata": {},
   "outputs": [
    {
     "data": {
      "text/plain": [
       "973"
      ]
     },
     "execution_count": 19,
     "metadata": {},
     "output_type": "execute_result"
    }
   ],
   "source": [
    "#Sanity check to make sure there are no duplicate posts in our dataframe\n",
    "len(set([p['name'] for p in vegan_posts]))"
   ]
  },
  {
   "cell_type": "code",
   "execution_count": 20,
   "metadata": {},
   "outputs": [],
   "source": [
    "# df_vegan.to_csv('dataset/vegan_posts.csv',mode = 'a' , header=True, index=False)\n"
   ]
  },
  {
   "cell_type": "code",
   "execution_count": 21,
   "metadata": {},
   "outputs": [],
   "source": [
    "df_vegan.to_csv('dataset/vegan_posts.csv',mode = 'a' , header=False, index=False)\n"
   ]
  },
  {
   "cell_type": "code",
   "execution_count": null,
   "metadata": {},
   "outputs": [],
   "source": []
  }
 ],
 "metadata": {
  "kernelspec": {
   "display_name": "Python 3",
   "language": "python",
   "name": "python3"
  },
  "language_info": {
   "codemirror_mode": {
    "name": "ipython",
    "version": 3
   },
   "file_extension": ".py",
   "mimetype": "text/x-python",
   "name": "python",
   "nbconvert_exporter": "python",
   "pygments_lexer": "ipython3",
   "version": "3.7.3"
  }
 },
 "nbformat": 4,
 "nbformat_minor": 2
}
